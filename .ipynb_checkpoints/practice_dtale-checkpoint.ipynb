{
 "cells": [
  {
   "cell_type": "code",
   "execution_count": 19,
   "metadata": {
    "pycharm": {
     "is_executing": false,
     "name": "#%%\n"
    }
   },
   "outputs": [],
   "source": [
    "import pandas as pd\n",
    "import dtale\n",
    "from pycoingecko import CoinGeckoAPI\n",
    "from convert_unix_to_datetime import ConvertUnixToDatetime as cud"
   ]
  },
  {
   "cell_type": "code",
   "execution_count": 20,
   "metadata": {
    "pycharm": {
     "is_executing": false,
     "name": "#%%\n"
    }
   },
   "outputs": [],
   "source": [
    "# df = pd.DataFrame([dict(a=1, b=2), dict(a=2, b=3), dict(a=3, b=4)]).set_index('a')\n",
    "# dtale.show(df)\n"
   ]
  },
  {
   "cell_type": "code",
   "execution_count": 21,
   "metadata": {
    "pycharm": {
     "is_executing": false,
     "name": "#%%\n"
    }
   },
   "outputs": [],
   "source": [
    "cg = CoinGeckoAPI()\n",
    "def run_coin_market_chart_range(id='bitcoin', vs_currency='usd', to_timestamp='1582156800',\n",
    "                                from_timestamp='1539129600'):\n",
    "    price= cg.get_coin_market_chart_range_by_id(id=id, vs_currency=vs_currency, \n",
    "                                                to_timestamp=to_timestamp,\n",
    "                                                from_timestamp=from_timestamp)\n",
    "    \n",
    "    df = pd.DataFrame(price)\n",
    "    \n",
    "    df2 = pd.DataFrame(df['prices'].values.tolist(), columns=['time', f'{id}_price'])\n",
    "    \n",
    "    df2['time'] = df2['time'].apply(lambda x: cud(x).convert_unix())\n",
    "    \n",
    "    df2 = df2.set_index('time')\n",
    "    \n",
    "    market_cap =[]\n",
    "    for item, row in df['market_caps']:\n",
    "        market_cap.append(row)\n",
    "        \n",
    "    total_volume =[]\n",
    "    for item, row in df['total_volumes']:\n",
    "        total_volume.append(row)\n",
    "    \n",
    "    df2[f'{id}_market_cap'] = market_cap\n",
    "    df2[f'{id}_total_volume'] = total_volume\n",
    "\n",
    "    return df2\n",
    "    \n"
   ]
  },
  {
   "cell_type": "code",
   "execution_count": 22,
   "metadata": {
    "pycharm": {
     "is_executing": false,
     "name": "#%%\n"
    }
   },
   "outputs": [],
   "source": [
    "bitcoin = run_coin_market_chart_range()\n",
    "\n",
    "ethereum = run_coin_market_chart_range(id='ethereum')\n",
    "\n",
    "allcoins = bitcoin.join(ethereum, how='outer')\n"
   ]
  },
  {
   "cell_type": "code",
   "execution_count": 24,
   "metadata": {
    "pycharm": {
     "is_executing": false,
     "name": "#%%\n"
    }
   },
   "outputs": [
    {
     "data": {
      "text/html": [
       "\n",
       "        <iframe\n",
       "            width=\"100%\"\n",
       "            height=\"350\"\n",
       "            src=\"http://Austins-MBP-2:40001/dtale/iframe/2\"\n",
       "            frameborder=\"0\"\n",
       "            allowfullscreen\n",
       "        ></iframe>\n",
       "        "
      ],
      "text/plain": [
       "<IPython.lib.display.IFrame at 0x11487ab50>"
      ]
     },
     "metadata": {},
     "output_type": "display_data"
    },
    {
     "data": {
      "text/plain": []
     },
     "execution_count": 24,
     "metadata": {},
     "output_type": "execute_result"
    },
    {
     "name": "stderr",
     "output_type": "stream",
     "text": [
      "2020-02-22 05:13:20,986 - ERROR    - 192.168.0.9 - - [22/Feb/2020 05:13:20] code 400, message Bad request version ('½*W®I>\\x8a¯ïÿvU7f/\\x915\\x00\"ÚÚ\\x13\\x01\\x13\\x02\\x13\\x03À+À/À,À0Ì©Ì¨À\\x13À\\x14\\x00\\x9c\\x00\\x9d\\x00/\\x005\\x00')\n"
     ]
    }
   ],
   "source": [
    "dtale.show(allcoins, ignore_duplicate=True)"
   ]
  },
  {
   "cell_type": "code",
   "execution_count": null,
   "metadata": {},
   "outputs": [],
   "source": []
  }
 ],
 "metadata": {
  "kernelspec": {
   "display_name": "Python 3",
   "language": "python",
   "name": "python3"
  },
  "language_info": {
   "codemirror_mode": {
    "name": "ipython",
    "version": 3
   },
   "file_extension": ".py",
   "mimetype": "text/x-python",
   "name": "python",
   "nbconvert_exporter": "python",
   "pygments_lexer": "ipython3",
   "version": "3.7.6"
  },
  "pycharm": {
   "stem_cell": {
    "cell_type": "raw",
    "metadata": {
     "collapsed": false
    },
    "source": []
   }
  }
 },
 "nbformat": 4,
 "nbformat_minor": 1
}
