{
 "cells": [
  {
   "cell_type": "code",
   "execution_count": null,
   "outputs": [],
   "source": [
    "import pandas as pd\n",
    "import dtale\n",
    "from pycoingecko import CoinGeckoAPI\n",
    "from datetime import datetime \n",
    "from convert_unix_to_datetime import ConvertUnixToDatetime as cnd"
   ],
   "metadata": {
    "collapsed": false,
    "pycharm": {
     "name": "#%%\n"
    }
   }
  },
  {
   "cell_type": "code",
   "execution_count": null,
   "outputs": [],
   "source": [
    "# df = pd.DataFrame([dict(a=1, b=2), dict(a=2, b=3), dict(a=3, b=4)]).set_index('a')\n",
    "# dtale.show(df, ignore_duplicate=True)"
   ],
   "metadata": {
    "collapsed": false,
    "pycharm": {
     "name": "#%%\n"
    }
   }
  },
  {
   "cell_type": "code",
   "execution_count": null,
   "outputs": [],
   "source": [
    "cg = CoinGeckoAPI()\n",
    "def run_coin_market_chart_range(id='bitcoin', vs_currency='usd', to_timestamp='1582156800', from_timestamp='1539129600'):\n",
    "    prices = cg.get_coin_market_chart_range_by_id(id=id, vs_currency=vs_currency, to_timestamp=to_timestamp, from_timestamp=from_timestamp)\n",
    "    \n",
    "    df = pd.DataFrame(prices)\n",
    "    df2 = pd.DataFrame(df['prices'].values.tolist(), columns=['time', f'{id}_price'])\n",
    "\n",
    "    df2['time'] = df2['time'].apply(lambda x: cnd(x).convert_unix())\n",
    "    \n",
    "    df2 = df2.set_index('time')\n",
    "    \n",
    "    market_cap = []\n",
    "    for item, row in df[f'market_caps']:\n",
    "        market_cap.append(row)\n",
    "    \n",
    "    total_volume = []\n",
    "    for item, row in df[f'total_volumes']:\n",
    "        total_volume.append(row)\n",
    "    \n",
    "    df2[f'{id}_market_cap'] = market_cap\n",
    "    df2[f'{id}_total_volume'] = total_volume\n",
    "    \n",
    "    return df2\n",
    "\n",
    "bitcoin = run_coin_market_chart_range()\n",
    "\n",
    "ethereum = run_coin_market_chart_range(id='ethereum')\n",
    "\n",
    "allcoins = bitcoin.join(ethereum, how='outer')"
   ],
   "metadata": {
    "collapsed": false,
    "pycharm": {
     "name": "#%%\n"
    }
   }
  },
  {
   "cell_type": "code",
   "execution_count": null,
   "outputs": [],
   "source": [
    "dtale.show(allcoins)"
   ],
   "metadata": {
    "collapsed": false,
    "pycharm": {
     "name": "#%%\n"
    }
   }
  }
 ],
 "metadata": {
  "kernelspec": {
   "display_name": "Python 3",
   "language": "python",
   "name": "python3"
  },
  "language_info": {
   "codemirror_mode": {
    "name": "ipython",
    "version": 2
   },
   "file_extension": ".py",
   "mimetype": "text/x-python",
   "name": "python",
   "nbconvert_exporter": "python",
   "pygments_lexer": "ipython2",
   "version": "2.7.6"
  },
  "pycharm": {
   "stem_cell": {
    "cell_type": "raw",
    "source": [],
    "metadata": {
     "collapsed": false
    }
   }
  }
 },
 "nbformat": 4,
 "nbformat_minor": 0
}